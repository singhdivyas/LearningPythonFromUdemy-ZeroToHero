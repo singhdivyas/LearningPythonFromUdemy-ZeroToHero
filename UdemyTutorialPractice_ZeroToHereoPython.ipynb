{
  "nbformat": 4,
  "nbformat_minor": 0,
  "metadata": {
    "colab": {
      "name": "UdemyTutorialPractice_ZeroToHereoPython.ipynb",
      "provenance": [],
      "collapsed_sections": [],
      "authorship_tag": "ABX9TyP3HYn9M5bviXjE23jw6wz6",
      "include_colab_link": true
    },
    "kernelspec": {
      "name": "python3",
      "display_name": "Python 3"
    },
    "language_info": {
      "name": "python"
    }
  },
  "cells": [
    {
      "cell_type": "markdown",
      "metadata": {
        "id": "view-in-github",
        "colab_type": "text"
      },
      "source": [
        "<a href=\"https://colab.research.google.com/github/singhdivyas/LearningPythonFromUdemy-ZeroToHero/blob/main/UdemyTutorialPractice_ZeroToHereoPython.ipynb\" target=\"_parent\"><img src=\"https://colab.research.google.com/assets/colab-badge.svg\" alt=\"Open In Colab\"/></a>"
      ]
    },
    {
      "cell_type": "code",
      "metadata": {
        "colab": {
          "base_uri": "https://localhost:8080/"
        },
        "id": "3oHPJle6sraI",
        "outputId": "6c87ec42-e478-4287-8ac2-e2182d3731dd"
      },
      "source": [
        "print(\"Jai shree ram\")"
      ],
      "execution_count": null,
      "outputs": [
        {
          "output_type": "stream",
          "text": [
            "Jai shree ram\n"
          ],
          "name": "stdout"
        }
      ]
    },
    {
      "cell_type": "code",
      "metadata": {
        "id": "HEtSinSVw3yP",
        "colab": {
          "base_uri": "https://localhost:8080/"
        },
        "outputId": "dfcdbf8f-62dc-4d3b-b3fb-cb9364bb1749"
      },
      "source": [
        "1+2"
      ],
      "execution_count": null,
      "outputs": [
        {
          "output_type": "execute_result",
          "data": {
            "text/plain": [
              "3"
            ]
          },
          "metadata": {
            "tags": []
          },
          "execution_count": 3
        }
      ]
    },
    {
      "cell_type": "markdown",
      "metadata": {
        "id": "jiSxJf40Xkyl"
      },
      "source": [
        "Integer\n",
        "Floating \n",
        "Strings\n",
        "Lists\n",
        "Dictionaries\n",
        "Tuples\n",
        "Sets\n",
        "Booleans"
      ]
    },
    {
      "cell_type": "code",
      "metadata": {
        "colab": {
          "base_uri": "https://localhost:8080/"
        },
        "id": "BJsj2sOtXeX9",
        "outputId": "f89c8f6f-54c7-4c2c-92cf-137841e587db"
      },
      "source": [
        "2+1"
      ],
      "execution_count": null,
      "outputs": [
        {
          "output_type": "execute_result",
          "data": {
            "text/plain": [
              "3"
            ]
          },
          "metadata": {
            "tags": []
          },
          "execution_count": 3
        }
      ]
    },
    {
      "cell_type": "markdown",
      "metadata": {
        "id": "t4gCaf9hcGim"
      },
      "source": [
        "Python is Dynamic Type Langauge (i.e. no need to assign type to a variable)"
      ]
    },
    {
      "cell_type": "code",
      "metadata": {
        "colab": {
          "base_uri": "https://localhost:8080/"
        },
        "id": "WESxSBqdcKX9",
        "outputId": "358f4ecf-c418-4ef6-e7ff-7570d7837aef"
      },
      "source": [
        "a = 10\n",
        "a\n",
        "type(a)"
      ],
      "execution_count": null,
      "outputs": [
        {
          "output_type": "execute_result",
          "data": {
            "text/plain": [
              "int"
            ]
          },
          "metadata": {
            "tags": []
          },
          "execution_count": 6
        }
      ]
    },
    {
      "cell_type": "code",
      "metadata": {
        "colab": {
          "base_uri": "https://localhost:8080/",
          "height": 35
        },
        "id": "yjP7MMJbc34R",
        "outputId": "fec8d007-a8af-4d18-fb09-0f04fa187917"
      },
      "source": [
        "\"I'm going on run\""
      ],
      "execution_count": null,
      "outputs": [
        {
          "output_type": "execute_result",
          "data": {
            "application/vnd.google.colaboratory.intrinsic+json": {
              "type": "string"
            },
            "text/plain": [
              "\"I'm going on run\""
            ]
          },
          "metadata": {
            "tags": []
          },
          "execution_count": 7
        }
      ]
    },
    {
      "cell_type": "code",
      "metadata": {
        "colab": {
          "base_uri": "https://localhost:8080/",
          "height": 35
        },
        "id": "fFWLIbwDdWy5",
        "outputId": "ddb9c721-b36d-4e63-f232-44cb658e1301"
      },
      "source": [
        "myString = \"Hello World\"\n",
        "myString[-3]"
      ],
      "execution_count": null,
      "outputs": [
        {
          "output_type": "execute_result",
          "data": {
            "application/vnd.google.colaboratory.intrinsic+json": {
              "type": "string"
            },
            "text/plain": [
              "'r'"
            ]
          },
          "metadata": {
            "tags": []
          },
          "execution_count": 8
        }
      ]
    },
    {
      "cell_type": "code",
      "metadata": {
        "colab": {
          "base_uri": "https://localhost:8080/"
        },
        "id": "lAl6u04Ld3Ra",
        "outputId": "dadecb9c-0b51-45d4-bd31-0224186ba8d4"
      },
      "source": [
        "myString = \"Hello World\"\n",
        "print(myString[2:])\n",
        "print(myString[:2])\n",
        "print(myString[::2])\n",
        "# reversing string\n",
        "print(myString[::-1])"
      ],
      "execution_count": null,
      "outputs": [
        {
          "output_type": "stream",
          "text": [
            "llo World\n",
            "He\n",
            "HloWrd\n",
            "dlroW olleH\n"
          ],
          "name": "stdout"
        }
      ]
    },
    {
      "cell_type": "code",
      "metadata": {
        "colab": {
          "base_uri": "https://localhost:8080/",
          "height": 35
        },
        "id": "Vsi3okWCewEb",
        "outputId": "ff058abe-6737-4d32-f94e-cbda4def7663"
      },
      "source": [
        "myString = \"Hello World\"\n",
        "myString.upper()"
      ],
      "execution_count": null,
      "outputs": [
        {
          "output_type": "execute_result",
          "data": {
            "application/vnd.google.colaboratory.intrinsic+json": {
              "type": "string"
            },
            "text/plain": [
              "'HELLO WORLD'"
            ]
          },
          "metadata": {
            "tags": []
          },
          "execution_count": 14
        }
      ]
    },
    {
      "cell_type": "markdown",
      "metadata": {
        "id": "iHw7hCqegjZX"
      },
      "source": [
        "string interpolation (printing the Strings)"
      ]
    },
    {
      "cell_type": "code",
      "metadata": {
        "colab": {
          "base_uri": "https://localhost:8080/"
        },
        "id": "-2RNiOhqgL7p",
        "outputId": "ac55e80c-3458-4200-e6ca-48b6eef05a6a"
      },
      "source": [
        "print(\"This is String {}\".format(\"INSERTED\"))\n",
        "name = \"ram\"\n",
        "print(f'Hello, his name is {name}')"
      ],
      "execution_count": null,
      "outputs": [
        {
          "output_type": "stream",
          "text": [
            "This is String INSERTED\n",
            "Hello, his name is ram\n"
          ],
          "name": "stdout"
        }
      ]
    },
    {
      "cell_type": "code",
      "metadata": {
        "colab": {
          "base_uri": "https://localhost:8080/"
        },
        "id": "TGtW8xtKg9mf",
        "outputId": "26b948ff-9973-43de-9ab6-210100b600fd"
      },
      "source": [
        "print(\"the {} {} {}\".format(\"fox\", \"brown\", 'quick'))\n",
        "print(\"the {q} {b} {f}\".format(f=\"fox\", b=\"brown\", q='quick'))"
      ],
      "execution_count": null,
      "outputs": [
        {
          "output_type": "stream",
          "text": [
            "the fox brown quick\n",
            "the quick brown fox\n"
          ],
          "name": "stdout"
        }
      ]
    },
    {
      "cell_type": "markdown",
      "metadata": {
        "id": "-TypFV6Ahq9d"
      },
      "source": [
        "format(value:width.precision f)"
      ]
    },
    {
      "cell_type": "code",
      "metadata": {
        "colab": {
          "base_uri": "https://localhost:8080/"
        },
        "id": "seg1NyuWhhdR",
        "outputId": "99237881-a150-4396-c432-9d97113fe53d"
      },
      "source": [
        "result = 100/777\n",
        "print(\"the result was {r:1.5f}\".format(r=result))"
      ],
      "execution_count": null,
      "outputs": [
        {
          "output_type": "stream",
          "text": [
            "the result was 0.12870\n"
          ],
          "name": "stdout"
        }
      ]
    },
    {
      "cell_type": "markdown",
      "metadata": {
        "id": "mgfAGZvVo3qE"
      },
      "source": [
        "List"
      ]
    },
    {
      "cell_type": "code",
      "metadata": {
        "colab": {
          "base_uri": "https://localhost:8080/"
        },
        "id": "PXx9yM6Yo4yq",
        "outputId": "b9ff0c70-eaaa-46e6-94ed-0975418b1cf2"
      },
      "source": [
        "myList = ['one', 'two', 'three']\n",
        "print(myList)\n",
        "anotherList = ['four', 'five']\n",
        "thirdList = myList + anotherList\n",
        "print(thirdList)\n",
        "thirdList.append('six')\n",
        "print(thirdList)"
      ],
      "execution_count": null,
      "outputs": [
        {
          "output_type": "stream",
          "text": [
            "['one', 'two', 'three']\n",
            "['one', 'two', 'three', 'four', 'five']\n",
            "['one', 'two', 'three', 'four', 'five', 'six']\n"
          ],
          "name": "stdout"
        }
      ]
    },
    {
      "cell_type": "code",
      "metadata": {
        "colab": {
          "base_uri": "https://localhost:8080/"
        },
        "id": "TwulFVFRqFjj",
        "outputId": "8f10a75b-fa72-46e2-a16f-cab922193d28"
      },
      "source": [
        "numList = [2,3,1,5,4,6,7]\n",
        "numList.sort()\n",
        "print(numList)\n",
        "numList.reverse()\n",
        "print(numList)"
      ],
      "execution_count": null,
      "outputs": [
        {
          "output_type": "stream",
          "text": [
            "[1, 2, 3, 4, 5, 6, 7]\n",
            "[7, 6, 5, 4, 3, 2, 1]\n"
          ],
          "name": "stdout"
        }
      ]
    },
    {
      "cell_type": "markdown",
      "metadata": {
        "id": "YS24hbMwv8AH"
      },
      "source": [
        "Dictionary"
      ]
    },
    {
      "cell_type": "code",
      "metadata": {
        "colab": {
          "base_uri": "https://localhost:8080/"
        },
        "id": "dH7A8W5Zqm36",
        "outputId": "dedad267-e0e7-48c4-e911-6b2d95c38654"
      },
      "source": [
        "my_Dict= {'key1':'value1', \"key2\":\"value2\"}\n",
        "print(my_Dict)\n",
        "print(my_Dict['key1'])\n",
        "print(my_Dict.keys())\n",
        "print(my_Dict.values())"
      ],
      "execution_count": null,
      "outputs": [
        {
          "output_type": "stream",
          "text": [
            "{'key1': 'value1', 'key2': 'value2'}\n",
            "value1\n",
            "dict_keys(['key1', 'key2'])\n",
            "dict_values(['value1', 'value2'])\n"
          ],
          "name": "stdout"
        }
      ]
    },
    {
      "cell_type": "markdown",
      "metadata": {
        "id": "O11T5yZG1k8n"
      },
      "source": [
        "Tuple"
      ]
    },
    {
      "cell_type": "code",
      "metadata": {
        "colab": {
          "base_uri": "https://localhost:8080/"
        },
        "id": "SegfwfTY0Ih3",
        "outputId": "019092a6-cf3f-4781-8693-7feaeb433e23"
      },
      "source": [
        "myTuple = (1,2,3)\n",
        "print(myTuple)"
      ],
      "execution_count": null,
      "outputs": [
        {
          "output_type": "stream",
          "text": [
            "(1, 2, 3)\n"
          ],
          "name": "stdout"
        }
      ]
    },
    {
      "cell_type": "markdown",
      "metadata": {
        "id": "vHiDuh8P1n5G"
      },
      "source": [
        "Sets"
      ]
    },
    {
      "cell_type": "code",
      "metadata": {
        "colab": {
          "base_uri": "https://localhost:8080/"
        },
        "id": "KUJCS6pF0eMe",
        "outputId": "2c09fe8a-b458-48df-fac2-70bfbc3f0a56"
      },
      "source": [
        "myList = [1,1,1,1,2,3,3,3,3,4,4,4]\n",
        "set(myList)"
      ],
      "execution_count": null,
      "outputs": [
        {
          "output_type": "execute_result",
          "data": {
            "text/plain": [
              "{1, 2, 3, 4}"
            ]
          },
          "metadata": {
            "tags": []
          },
          "execution_count": 34
        }
      ]
    },
    {
      "cell_type": "markdown",
      "metadata": {
        "id": "4yfSywOK2dlf"
      },
      "source": [
        "Boolean"
      ]
    },
    {
      "cell_type": "code",
      "metadata": {
        "colab": {
          "base_uri": "https://localhost:8080/"
        },
        "id": "4vgestLZ06_f",
        "outputId": "9b4442bc-1797-4f33-9132-7ba8a8601527"
      },
      "source": [
        "type(False)"
      ],
      "execution_count": null,
      "outputs": [
        {
          "output_type": "execute_result",
          "data": {
            "text/plain": [
              "bool"
            ]
          },
          "metadata": {
            "tags": []
          },
          "execution_count": 35
        }
      ]
    },
    {
      "cell_type": "code",
      "metadata": {
        "colab": {
          "base_uri": "https://localhost:8080/"
        },
        "id": "onnRiQ1Q-a8h",
        "outputId": "4edd0202-1e6a-4a28-9cde-0aa36cdfda75"
      },
      "source": [
        "%%writefile myFile.txt\n",
        "Hello this is a text file\n",
        "this is second line\n",
        "this is third line"
      ],
      "execution_count": null,
      "outputs": [
        {
          "output_type": "stream",
          "text": [
            "Writing myFile.txt\n"
          ],
          "name": "stdout"
        }
      ]
    },
    {
      "cell_type": "code",
      "metadata": {
        "id": "yZMfAtZ4-uWZ"
      },
      "source": [
        "myFile = open(\"myFile.txt\")"
      ],
      "execution_count": null,
      "outputs": []
    },
    {
      "cell_type": "code",
      "metadata": {
        "colab": {
          "base_uri": "https://localhost:8080/"
        },
        "id": "QHUa6zSM_U9E",
        "outputId": "0903fe1c-5b9c-461f-fe95-94ced183547a"
      },
      "source": [
        "with open(\"myFile.txt\", mode='r') as f:\n",
        "  print(f.read())"
      ],
      "execution_count": null,
      "outputs": [
        {
          "output_type": "stream",
          "text": [
            "Hello this is a text file\n",
            "this is second line\n",
            "this is third line\n",
            "Hello this is a text file\n",
            "this is second line\n",
            "this is third line\n"
          ],
          "name": "stdout"
        }
      ]
    },
    {
      "cell_type": "markdown",
      "metadata": {
        "id": "rV_RCtI4MKMe"
      },
      "source": [
        "Logical operator \n",
        "and or not"
      ]
    },
    {
      "cell_type": "code",
      "metadata": {
        "colab": {
          "base_uri": "https://localhost:8080/"
        },
        "id": "rR1aDW5sMoQu",
        "outputId": "b1aa0cd2-e235-40fb-fe7a-a0f84f7f53ab"
      },
      "source": [
        "1<2>3"
      ],
      "execution_count": null,
      "outputs": [
        {
          "output_type": "execute_result",
          "data": {
            "text/plain": [
              "False"
            ]
          },
          "metadata": {
            "tags": []
          },
          "execution_count": 41
        }
      ]
    },
    {
      "cell_type": "markdown",
      "metadata": {
        "id": "ItnBy1v5MwI7"
      },
      "source": [
        "if, elif, else statements\n",
        "for, while, "
      ]
    },
    {
      "cell_type": "code",
      "metadata": {
        "colab": {
          "base_uri": "https://localhost:8080/"
        },
        "id": "WZUH-huLM4ob",
        "outputId": "74606463-8f4a-4e9d-fc43-5575510a8119"
      },
      "source": [
        "if True :\n",
        "  print(\"Ram\")\n",
        "\n",
        "items = [1,2,3,4,5,6]\n",
        "for name in items:\n",
        "  print(name)\n",
        "x = 0\n",
        "while x < 5:\n",
        "  print(x)\n",
        "  x=x+1"
      ],
      "execution_count": null,
      "outputs": [
        {
          "output_type": "stream",
          "text": [
            "Ram\n",
            "1\n",
            "2\n",
            "3\n",
            "4\n",
            "5\n",
            "6\n",
            "0\n",
            "1\n",
            "2\n",
            "3\n",
            "4\n"
          ],
          "name": "stdout"
        }
      ]
    },
    {
      "cell_type": "markdown",
      "metadata": {
        "id": "wY31PG5tPGZl"
      },
      "source": [
        "List Comprehension"
      ]
    },
    {
      "cell_type": "code",
      "metadata": {
        "colab": {
          "base_uri": "https://localhost:8080/"
        },
        "id": "5Vh2ZP5JOYT2",
        "outputId": "a3369b96-e40e-4c60-9b8c-e2fd19b2eaf3"
      },
      "source": [
        "newList = [x for x in range(0, 11) if x%2==0]\n",
        "print(newList)"
      ],
      "execution_count": null,
      "outputs": [
        {
          "output_type": "stream",
          "text": [
            "[0, 2, 4, 6, 8, 10]\n"
          ],
          "name": "stdout"
        }
      ]
    },
    {
      "cell_type": "markdown",
      "metadata": {
        "id": "PDkvFm5aaSc0"
      },
      "source": [
        "Function"
      ]
    },
    {
      "cell_type": "code",
      "metadata": {
        "colab": {
          "base_uri": "https://localhost:8080/"
        },
        "id": "QfYR8j-VaWh7",
        "outputId": "435845f8-ef3d-4b2c-d5fd-8fc0aae6d107"
      },
      "source": [
        "def sayHello(name='Krishna'):\n",
        "  print(f'Hi {name}')\n",
        "\n",
        "sayHello(\"ram\")\n",
        "sayHello()"
      ],
      "execution_count": null,
      "outputs": [
        {
          "output_type": "stream",
          "text": [
            "Hi ram\n",
            "Hi Krishna\n"
          ],
          "name": "stdout"
        }
      ]
    },
    {
      "cell_type": "markdown",
      "metadata": {
        "id": "Wox_Ut32hj56"
      },
      "source": [
        "Class"
      ]
    },
    {
      "cell_type": "code",
      "metadata": {
        "id": "ASdfobqThk62"
      },
      "source": [
        "class Sample():\n",
        "  pass"
      ],
      "execution_count": 1,
      "outputs": []
    },
    {
      "cell_type": "code",
      "metadata": {
        "colab": {
          "base_uri": "https://localhost:8080/"
        },
        "id": "HeYCMqugkxqY",
        "outputId": "164d8769-e0e2-4b19-e581-3b5ec4b1b7a6"
      },
      "source": [
        "mySample = Sample()\n",
        "type(mySample)"
      ],
      "execution_count": 2,
      "outputs": [
        {
          "output_type": "execute_result",
          "data": {
            "text/plain": [
              "__main__.Sample"
            ]
          },
          "metadata": {
            "tags": []
          },
          "execution_count": 2
        }
      ]
    },
    {
      "cell_type": "code",
      "metadata": {
        "colab": {
          "base_uri": "https://localhost:8080/"
        },
        "id": "lhwQi5GKlJEP",
        "outputId": "8c16fdfb-d6c1-4152-84c7-44a546223049"
      },
      "source": [
        "class Dog():\n",
        "  name = \"dog\"\n",
        "  # __init__  method act as a constructor \n",
        "  def __init__(self, breed):\n",
        "    self.breed = breed\n",
        "  # Operation/Action\n",
        "  def bark(self):\n",
        "    print(\"WOOF !\")\n",
        "\n",
        "\n",
        "my_dog = Dog(breed = 'Lab')\n",
        "type(my_dog)\n",
        "print(my_dog.name)\n",
        "print(my_dog.bark())"
      ],
      "execution_count": 6,
      "outputs": [
        {
          "output_type": "stream",
          "text": [
            "dog\n",
            "WOOF !\n",
            "None\n"
          ],
          "name": "stdout"
        }
      ]
    },
    {
      "cell_type": "code",
      "metadata": {
        "colab": {
          "base_uri": "https://localhost:8080/"
        },
        "id": "4nYvCCx3rNdL",
        "outputId": "990ae3ba-1a78-4b67-958d-93fbc3dc04b2"
      },
      "source": [
        "class Animal():\n",
        "  def __init__(self):\n",
        "    print(\"Animal Created\")\n",
        "  \n",
        "  def who_am_i(self):\n",
        "    print(\"I am an animal\")\n",
        "  def eat(self):\n",
        "    print(\"I am eating\")\n",
        "\n",
        "class Dog(Animal):\n",
        "  def __init__(self):\n",
        "    Animal.__init__(self)\n",
        "    print(\"Dog created\")\n",
        "\n",
        "\n",
        "newDog = Dog()"
      ],
      "execution_count": 7,
      "outputs": [
        {
          "output_type": "stream",
          "text": [
            "Animal Created\n",
            "Dog created\n"
          ],
          "name": "stdout"
        }
      ]
    },
    {
      "cell_type": "markdown",
      "metadata": {
        "id": "d_Vm5DVptzyc"
      },
      "source": [
        "Special or Dunder method like len(), str() method"
      ]
    },
    {
      "cell_type": "code",
      "metadata": {
        "colab": {
          "base_uri": "https://localhost:8080/"
        },
        "id": "GiZMmFantykZ",
        "outputId": "4fcb9677-d87e-4185-b1aa-49f913b2d65b"
      },
      "source": [
        "class Book():\n",
        "  def __init__(self, title, author, pages):\n",
        "    self.title = title\n",
        "    self.author = author\n",
        "    self.pages = pages\n",
        "  # Dunder method or special method\n",
        "  def __str__(self):\n",
        "    return f\"{self.title} by {self.author}\"\n",
        "  \n",
        "  def __len__(self):\n",
        "    return self.pages\n",
        "\n",
        "\n",
        "b = Book('Python rocks', 'Jose', 200)\n",
        "print(str(b))\n",
        "print(len(b))"
      ],
      "execution_count": 10,
      "outputs": [
        {
          "output_type": "stream",
          "text": [
            "Python rocks by Jose\n",
            "200\n"
          ],
          "name": "stdout"
        }
      ]
    },
    {
      "cell_type": "markdown",
      "metadata": {
        "id": "oRyfqLCav9fU"
      },
      "source": [
        "Modules and Packages\n",
        "\n",
        "1.   PyPi is a repository for open source third party python packages\n",
        "2.   pip install to install these extenal packages\n",
        "\n",
        "\n",
        "\n"
      ]
    },
    {
      "cell_type": "markdown",
      "metadata": {
        "id": "5HSWFbpYze_2"
      },
      "source": [
        "Python has a build in attribute\n",
        " __name__ in the code which is being assigned the original script __main__\n",
        "\n",
        "---\n",
        "\n",
        "\n"
      ]
    },
    {
      "cell_type": "code",
      "metadata": {
        "colab": {
          "base_uri": "https://localhost:8080/"
        },
        "id": "5qK4qoQyxkTs",
        "outputId": "f872f4f6-0fbd-441f-f8de-6e622a914227"
      },
      "source": [
        "if __name__ == \"__main__\":\n",
        "  print(\"The script is being executed, not imported\")\n",
        "else:\n",
        "  print(\"script is being imported\")"
      ],
      "execution_count": 11,
      "outputs": [
        {
          "output_type": "stream",
          "text": [
            "The script is being executed, not imported\n"
          ],
          "name": "stdout"
        }
      ]
    },
    {
      "cell_type": "markdown",
      "metadata": {
        "id": "NmYKCzV01J73"
      },
      "source": [
        "Exception Handling"
      ]
    },
    {
      "cell_type": "code",
      "metadata": {
        "colab": {
          "base_uri": "https://localhost:8080/"
        },
        "id": "IE45grOL1MZh",
        "outputId": "c53c22d3-342d-47b2-abce-c3d5e61851a7"
      },
      "source": [
        "try:\n",
        "  result = 10 + '10'\n",
        "except:\n",
        "  print(\"Hey it looks like you aren't adding correctly\")\n",
        "else:\n",
        "  print(\"Add went well !!!\")\n",
        "  print(result)\n",
        "finally:\n",
        "  print(\"I always run\")"
      ],
      "execution_count": 14,
      "outputs": [
        {
          "output_type": "stream",
          "text": [
            "Hey it looks like you aren't adding correctly\n",
            "I always run\n"
          ],
          "name": "stdout"
        }
      ]
    },
    {
      "cell_type": "markdown",
      "metadata": {
        "id": "YZ3ZIrPK23jj"
      },
      "source": [
        "Taking input \n",
        "\n"
      ]
    },
    {
      "cell_type": "code",
      "metadata": {
        "colab": {
          "base_uri": "https://localhost:8080/"
        },
        "id": "DwyW64oUvKis",
        "outputId": "04839ae3-7223-4537-cee8-bc5554148152"
      },
      "source": [
        "def ask():\n",
        "  while True:\n",
        "    try:\n",
        "      n = int(input(\"Enter the input\"))\n",
        "    except:\n",
        "      print(\"Please try again!!\")\n",
        "    else:\n",
        "      break\n",
        "  print(\"Your number squared is :\")\n",
        "  print(n**2)\n",
        "\n",
        "ask()"
      ],
      "execution_count": 18,
      "outputs": [
        {
          "output_type": "stream",
          "text": [
            "Enter the input10\n",
            "Your number squared is :\n",
            "100\n"
          ],
          "name": "stdout"
        }
      ]
    },
    {
      "cell_type": "markdown",
      "metadata": {
        "id": "XH3cOEpG38fz"
      },
      "source": [
        "Unit Testing\n",
        "\n",
        "\n",
        "1.   pyLint (possible error for styling and conventions PEP8)\n",
        "2.   unittest\n",
        "\n"
      ]
    },
    {
      "cell_type": "markdown",
      "metadata": {
        "id": "kWPxrp3p9EUm"
      },
      "source": [
        "Decorator\n",
        "Adding extra functionality to existing method or function\n",
        "we can pass a function to another function or return a fuction from the original function"
      ]
    },
    {
      "cell_type": "code",
      "metadata": {
        "colab": {
          "base_uri": "https://localhost:8080/"
        },
        "id": "zsQ7KkHq3-mi",
        "outputId": "a076cfa9-c8a6-4109-8b85-14109cbce904"
      },
      "source": [
        "def hello(name=\"Jose\"):\n",
        "  print(\"The hello() function has been executed !!!\")\n",
        "\n",
        "  def greet():\n",
        "    return '\\t This is the great() func inside hello!'\n",
        "  def welcome():\n",
        "    return \"\\t this is welcome inside hello\"\n",
        "  print(greet())\n",
        "  print(welcome())\n",
        "  print(\"this is the end of hello function!\")\n",
        "\n",
        "hello()\n",
        "# welcome()"
      ],
      "execution_count": 23,
      "outputs": [
        {
          "output_type": "stream",
          "text": [
            "The hello() function has been executed !!!\n",
            "\t This is the great() func inside hello!\n",
            "\t this is welcome inside hello\n",
            "this is the end of hello function!\n"
          ],
          "name": "stdout"
        }
      ]
    },
    {
      "cell_type": "code",
      "metadata": {
        "colab": {
          "base_uri": "https://localhost:8080/"
        },
        "id": "A0IbiTQnDon9",
        "outputId": "fbee5bce-b942-4753-ab74-6cb6189e17fe"
      },
      "source": [
        "def new_decorator(original_func):\n",
        "  def wrap_func():\n",
        "    print(\"Some extra code, before the original function\")\n",
        "    original_func()\n",
        "    print(\"Some extra code, after the original function\")\n",
        "  \n",
        "  return wrap_func\n",
        "\n",
        "def func_needs_decorator():\n",
        "  print(\"I want to be decorated\")\n",
        "\n",
        "decorated_func = new_decorator(func_needs_decorator)\n",
        "decorated_func()"
      ],
      "execution_count": 25,
      "outputs": [
        {
          "output_type": "stream",
          "text": [
            "Some extra code, before the original function\n",
            "I want to be decorated\n",
            "Some extra code, after the original function\n"
          ],
          "name": "stdout"
        }
      ]
    },
    {
      "cell_type": "code",
      "metadata": {
        "colab": {
          "base_uri": "https://localhost:8080/"
        },
        "id": "r9vCL5AEFC9q",
        "outputId": "092150ee-41ea-407a-aab0-9805c5fefe39"
      },
      "source": [
        "@new_decorator\n",
        "def func_needs_decorator1():\n",
        "  print(\"I want to be decorated\")\n",
        "\n",
        "func_needs_decorator1()"
      ],
      "execution_count": 26,
      "outputs": [
        {
          "output_type": "stream",
          "text": [
            "Some extra code, before the original function\n",
            "I want to be decorated\n",
            "Some extra code, after the original function\n"
          ],
          "name": "stdout"
        }
      ]
    }
  ]
}